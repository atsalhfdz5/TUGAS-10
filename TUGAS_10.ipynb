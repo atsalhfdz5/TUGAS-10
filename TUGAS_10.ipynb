{
  "nbformat": 4,
  "nbformat_minor": 0,
  "metadata": {
    "colab": {
      "provenance": [],
      "authorship_tag": "ABX9TyMO9JDJVvhHPBb4OM4h+OJd",
      "include_colab_link": true
    },
    "kernelspec": {
      "name": "python3",
      "display_name": "Python 3"
    },
    "language_info": {
      "name": "python"
    }
  },
  "cells": [
    {
      "cell_type": "markdown",
      "metadata": {
        "id": "view-in-github",
        "colab_type": "text"
      },
      "source": [
        "<a href=\"https://colab.research.google.com/github/atsalhfdz5/TUGAS-10/blob/main/TUGAS_10.ipynb\" target=\"_parent\"><img src=\"https://colab.research.google.com/assets/colab-badge.svg\" alt=\"Open In Colab\"/></a>"
      ]
    },
    {
      "cell_type": "code",
      "execution_count": null,
      "metadata": {
        "colab": {
          "base_uri": "https://localhost:8080/"
        },
        "id": "n93eo9aGWMom",
        "outputId": "697c9880-8f3c-40cf-8108-39ed63c472af"
      },
      "outputs": [
        {
          "metadata": {
            "tags": null
          },
          "name": "stdout",
          "output_type": "stream",
          "text": [
            "\n",
            "```To Do List```\n",
            "by M. Atsal Hafidz\n",
            "\n",
            "Selamat Datang Di Dalam List Kamu!\n",
            "Apa Yang Ingin Anda Lakukan?\n",
            "1. Tambahkan Tugas\n",
            "2. Lihat Semua Tugas\n",
            "3. Hapus Tugas\n",
            "4. Tandai Tugas Yang Sudah Selesai\n",
            "5. Quit\n"
          ]
        }
      ],
      "source": [
        "\n",
        "print(\"\"\"\n",
        "```To Do List```\n",
        "by M. Atsal Hafidz\\n\"\"\")\n",
        "tasks = []\n",
        "def add_tugas(tugas):\n",
        "    tasks.append(tugas)\n",
        "\n",
        "def view_tugas():\n",
        "    for i, tugas in enumerate(tasks):\n",
        "        print(f\"{i+1}. {tugas}\")\n",
        "\n",
        "def remove_tugas(index):\n",
        "    del tasks[index]\n",
        "    \n",
        "def mark_tugas_complete(index):\n",
        "    tasks[index] = 'X ' + tasks[index]\n",
        "\n",
        "def main():\n",
        "    print(\"Selamat Datang Di Dalam List Kamu!\")\n",
        "    while True:\n",
        "        print(\"Apa Yang Ingin Anda Lakukan?\")\n",
        "        print(\"1. Tambahkan Tugas\")\n",
        "        print(\"2. Lihat Semua Tugas\")\n",
        "        print(\"3. Hapus Tugas\")\n",
        "        print(\"4. Tandai Tugas Yang Sudah Selesai\")\n",
        "        print(\"5. Quit\")\n",
        "        pilihan = int(input(\"Pilihan Kamu: \"))\n",
        "        if pilihan == 1:\n",
        "            tugas = input(\"Masukkan Tugas: \")\n",
        "            add_tugas(tugas)\n",
        "        elif pilihan == 2:\n",
        "            view_tugas()\n",
        "        elif pilihan == 3:\n",
        "            index = int(input(\"Masukkan nomor Tugas: \"))\n",
        "            remove_tugas(index)\n",
        "        elif pilihan == 4:\n",
        "            index = int(input(\"Masukkan nomor Tugas: \"))\n",
        "            mark_tugas_complete(index)\n",
        "        elif pilihan == 5:      \n",
        "            break\n",
        "        else:\n",
        "            \n",
        "            print(\"ERROR,Anda Kurang Beruntung Coba Lagi.\")\n",
        "\n",
        "        \n",
        "        print()\n",
        "main()"
      ]
    }
  ]
}